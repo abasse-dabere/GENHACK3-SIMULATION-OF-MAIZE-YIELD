{
 "cells": [
  {
   "cell_type": "code",
   "execution_count": 1,
   "metadata": {},
   "outputs": [],
   "source": [
    "# helper functions\n",
    "import sys\n",
    "sys.path.append('../helper_functions')\n",
    "from get_scenarios import get_scenarios\n",
    "from plot4dist import plot4dist\n",
    "\n",
    "# utils functions\n",
    "import pandas as pd\n",
    "import numpy as np\n",
    "import matplotlib.pyplot as plt\n",
    "import seaborn as sns\n",
    "import ot # for Sliced Wasserstein Distance (SWD)\n",
    "\n",
    "# tensorflow for deep learning\n",
    "import tensorflow as tf\n",
    "from tensorflow.keras import layers\n",
    "from tensorflow.keras.models import Model\n",
    "\n",
    "# sklearn for preprocessing\n",
    "from sklearn.preprocessing import StandardScaler\n",
    "\n",
    "import ot # for Sliced Wasserstein Distance (SWD)"
   ]
  },
  {
   "cell_type": "markdown",
   "metadata": {},
   "source": [
    "## 1. Analyze the data"
   ]
  },
  {
   "cell_type": "code",
   "execution_count": 4,
   "metadata": {},
   "outputs": [
    {
     "name": "stdout",
     "output_type": "stream",
     "text": [
      "Help on function get_scenarios in module get_scenarios:\n",
      "\n",
      "get_scenarios(path_to_data='data') -> dict\n",
      "    returns a dictionary D with the data for each scenario\n",
      "    keys are the scenario numbers and values are the dataframes\n",
      "    example: D[1] is the dataframe for scenario 1\n",
      "    \n",
      "    There are 9 scenarios, from 1 to 9\n",
      "\n"
     ]
    }
   ],
   "source": [
    "help(get_scenarios)"
   ]
  },
  {
   "cell_type": "code",
   "execution_count": 5,
   "metadata": {},
   "outputs": [
    {
     "name": "stdout",
     "output_type": "stream",
     "text": [
      "scenario 1 has 464 samples\n",
      "scenario 2 has 1290 samples\n",
      "scenario 3 has 1678 samples\n",
      "scenario 4 has 534 samples\n",
      "scenario 5 has 1254 samples\n",
      "scenario 6 has 1082 samples\n",
      "scenario 7 has 1007 samples\n",
      "scenario 8 has 1690 samples\n",
      "scenario 9 has 1001 samples\n"
     ]
    }
   ],
   "source": [
    "scenarios = get_scenarios('../data/')\n",
    "for key in scenarios:\n",
    "    print('scenario {} has {} samples'.format(key, scenarios[key].shape[0]))"
   ]
  },
  {
   "cell_type": "code",
   "execution_count": null,
   "metadata": {},
   "outputs": [],
   "source": []
  }
 ],
 "metadata": {
  "kernelspec": {
   "display_name": "Python 3",
   "language": "python",
   "name": "python3"
  },
  "language_info": {
   "codemirror_mode": {
    "name": "ipython",
    "version": 3
   },
   "file_extension": ".py",
   "mimetype": "text/x-python",
   "name": "python",
   "nbconvert_exporter": "python",
   "pygments_lexer": "ipython3",
   "version": "3.11.5"
  }
 },
 "nbformat": 4,
 "nbformat_minor": 2
}
